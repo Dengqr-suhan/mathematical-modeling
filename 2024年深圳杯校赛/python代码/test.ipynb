{
 "cells": [
  {
   "cell_type": "code",
   "execution_count": 1,
   "metadata": {},
   "outputs": [
    {
     "name": "stdout",
     "output_type": "stream",
     "text": [
      "CSV file '残骸误差分析结果.csv' created successfully.\n"
     ]
    }
   ],
   "source": [
    "import pandas as pd\n",
    "\n",
    "# Load the original CSV file\n",
    "df = pd.read_csv('optimized_debris_results.csv')\n",
    "\n",
    "# Rename the columns to Chinese and round the data to two decimal places\n",
    "df.columns = [\n",
    "    \"残骸\", \"预测经度 (°)\", \"预测纬度 (°)\", \"预测高度 (米)\", \"预测时间 (秒)\",\n",
    "    \"真实经度 (°)\", \"真实纬度 (°)\", \"真实高度 (米)\", \"真实时间 (秒)\",\n",
    "    \"位置误差 (米)\", \"时间误差 (秒)\"\n",
    "]\n",
    "\n",
    "df = df.round(2)\n",
    "\n",
    "# Save the modified DataFrame to a new CSV file\n",
    "df.to_csv('残骸误差分析结果.csv', index=False)\n",
    "\n",
    "print(\"CSV file '残骸误差分析结果.csv' created successfully.\")\n"
   ]
  },
  {
   "cell_type": "code",
   "execution_count": null,
   "metadata": {},
   "outputs": [],
   "source": [
    "# Loading the CSV file and converting the column names to Chinese with rounding the data to two decimal places\n",
    "import pandas as pd\n",
    "\n",
    "# Load the CSV file\n",
    "file_path = 'Q2_optimized_debris_results.csv'\n",
    "df = pd.read_csv(file_path)\n",
    "\n",
    "# Rename the columns to Chinese and round the data to two decimal places\n",
    "df.columns = [\n",
    "    \"残骸\", \"预测经度 (°)\", \"预测纬度 (°)\", \"预测高度 (米)\", \"预测时间 (秒)\",\n",
    "    \"真实经度 (°)\", \"真实纬度 (°)\", \"真实高度 (米)\", \"真实时间 (秒)\",\n",
    "    \"位置误差 (米)\", \"时间误差 (秒)\"\n",
    "]\n",
    "\n",
    "df = df.round(2)\n",
    "\n",
    "# Save the modified DataFrame to a new CSV file\n",
    "output_path = 'Q2_残骸误差分析结果.csv'\n",
    "df.to_csv(output_path, index=False)\n",
    "\n",
    "output_path\n"
   ]
  }
 ],
 "metadata": {
  "kernelspec": {
   "display_name": "suhan",
   "language": "python",
   "name": "python3"
  },
  "language_info": {
   "codemirror_mode": {
    "name": "ipython",
    "version": 3
   },
   "file_extension": ".py",
   "mimetype": "text/x-python",
   "name": "python",
   "nbconvert_exporter": "python",
   "pygments_lexer": "ipython3",
   "version": "3.8.19"
  }
 },
 "nbformat": 4,
 "nbformat_minor": 2
}
